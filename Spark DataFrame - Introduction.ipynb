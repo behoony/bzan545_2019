{
 "cells": [
  {
   "cell_type": "markdown",
   "metadata": {},
   "source": [
    "## Introduction to Spark DataFrame\n",
    "\n",
    "#### In Apache Spark: \n",
    "* **_DataFrame_** is a distributed collection of rows, where each column is named.\n",
    "* Similar to relational table, Python Pandas object, R dataframe, or Excel sheet with column headers.\n",
    "\n",
    "#### Similar to RDD:\n",
    "* Immuatable: DataFrames cannot be changed, only be transformed.\n",
    "* Lazy evaluation: Task is not executed until an *action* kicks in.\n",
    "* Distributed:Rows and columns are distributed. \n",
    "\n",
    "#### Different from RDD:\n",
    "* DataFrame is designed to process structured data.\n",
    "* Query optimization becomes possible. "
   ]
  },
  {
   "cell_type": "markdown",
   "metadata": {},
   "source": [
    "### RDD vs DataFrame\n",
    "<img src=\"./images/rdd_vs_dataframe.jpg\" width=\"600\" height=\"400\" /> "
   ]
  },
  {
   "cell_type": "markdown",
   "metadata": {},
   "source": [
    "#### Howe to create a DataFrame:\n",
    "* Loading data from a file of various formats: JSON, CSV, XML, ...\n",
    "* Loading data from existing RDD (kind of transformation)\n",
    "* Loading data from various databases\n",
    "\n",
    "It can be created using different data formats. For example, loading the data from JSON, CSV.\n",
    "Loading data from Existing RDD.\n",
    "Programmatically specifying schema"
   ]
  },
  {
   "cell_type": "markdown",
   "metadata": {},
   "source": [
    "<img src=\"./images/DataFrame-in-Spark.png\" width=\"600\" height=\"400\" /> "
   ]
  },
  {
   "cell_type": "markdown",
   "metadata": {},
   "source": [
    "#### Example: Loading a csv file to DataFrame"
   ]
  },
  {
   "cell_type": "code",
   "execution_count": 1,
   "metadata": {},
   "outputs": [],
   "source": [
    "from pyspark.sql import SparkSession\n",
    "\n",
    "spark = SparkSession \\\n",
    "    .builder \\\n",
    "    .appName(\"DataFrame Intro\") \\\n",
    "    .config(\"spark.some.config.option\", \"some-value\") \\\n",
    "    .getOrCreate()\n",
    "\n",
    "sc = spark.sparkContext"
   ]
  },
  {
   "cell_type": "code",
   "execution_count": 3,
   "metadata": {
    "scrolled": true
   },
   "outputs": [
    {
     "name": "stdout",
     "output_type": "stream",
     "text": [
      "+--------+------------+-------------------+---------+\n",
      "|exchange|stock_symbol|               date|dividends|\n",
      "+--------+------------+-------------------+---------+\n",
      "|    NYSE|         AIT|2009-11-12 00:00:00|     0.15|\n",
      "|    NYSE|         AIT|2009-08-12 00:00:00|     0.15|\n",
      "|    NYSE|         AIT|2009-05-13 00:00:00|     0.15|\n",
      "|    NYSE|         AIT|2009-02-11 00:00:00|     0.15|\n",
      "|    NYSE|         AIT|2008-11-12 00:00:00|     0.15|\n",
      "|    NYSE|         AIT|2008-08-13 00:00:00|     0.15|\n",
      "|    NYSE|         AIT|2008-05-13 00:00:00|     0.15|\n",
      "|    NYSE|         AIT|2008-02-13 00:00:00|     0.15|\n",
      "|    NYSE|         AIT|2007-11-13 00:00:00|     0.15|\n",
      "|    NYSE|         AIT|2007-08-13 00:00:00|     0.15|\n",
      "+--------+------------+-------------------+---------+\n",
      "only showing top 10 rows\n",
      "\n",
      "root\n",
      " |-- exchange: string (nullable = true)\n",
      " |-- stock_symbol: string (nullable = true)\n",
      " |-- date: timestamp (nullable = true)\n",
      " |-- dividends: double (nullable = true)\n",
      "\n"
     ]
    }
   ],
   "source": [
    "dividends = spark.read.load('data/NYSE_dividends_A.csv', format='csv', header=True, inferSchema=True)\n",
    "dividends.show(10)\n",
    "dividends.printSchema()"
   ]
  },
  {
   "cell_type": "code",
   "execution_count": 4,
   "metadata": {},
   "outputs": [
    {
     "name": "stdout",
     "output_type": "stream",
     "text": [
      "+--------+------------+-------------------+----------------+----------------+---------------+-----------------+------------+---------------------+\n",
      "|exchange|stock_symbol|               date|stock_price_open|stock_price_high|stock_price_low|stock_price_close|stock_volume|stock_price_adj_close|\n",
      "+--------+------------+-------------------+----------------+----------------+---------------+-----------------+------------+---------------------+\n",
      "|    NYSE|         AEA|2010-02-08 00:00:00|            4.42|            4.42|           4.21|             4.24|      205500|                 4.24|\n",
      "|    NYSE|         AEA|2010-02-05 00:00:00|            4.42|            4.54|           4.22|             4.41|      194300|                 4.41|\n",
      "|    NYSE|         AEA|2010-02-04 00:00:00|            4.55|            4.69|           4.39|             4.42|      233800|                 4.42|\n",
      "|    NYSE|         AEA|2010-02-03 00:00:00|            4.65|            4.69|            4.5|             4.55|      182100|                 4.55|\n",
      "|    NYSE|         AEA|2010-02-02 00:00:00|            4.74|             5.0|           4.62|             4.66|      222700|                 4.66|\n",
      "+--------+------------+-------------------+----------------+----------------+---------------+-----------------+------------+---------------------+\n",
      "only showing top 5 rows\n",
      "\n"
     ]
    }
   ],
   "source": [
    "dailyPrices= spark.read.load('data/NYSE_daily_prices_A.csv', format='csv', header=True, inferSchema=True)\n",
    "dailyPrices.show(5)"
   ]
  },
  {
   "cell_type": "markdown",
   "metadata": {},
   "source": [
    "### DataFrame Manipulation\n",
    "\n",
    "You can manipulation a DataFrame in two ways:\n",
    "1. Using functions of DataFrame\n",
    "2. Using SQL after creating/registering a table/view "
   ]
  },
  {
   "cell_type": "markdown",
   "metadata": {},
   "source": [
    "#### How to Count the number of rows, columns in DataFrame?"
   ]
  },
  {
   "cell_type": "code",
   "execution_count": 5,
   "metadata": {},
   "outputs": [
    {
     "data": {
      "text/plain": [
       "(8719, 735026)"
      ]
     },
     "execution_count": 5,
     "metadata": {},
     "output_type": "execute_result"
    }
   ],
   "source": [
    "dividends.count(), dailyPrices.count()\n"
   ]
  },
  {
   "cell_type": "markdown",
   "metadata": {},
   "source": [
    "#### Basic statistics (mean, standard deviance, min ,max , count) of numerical columns"
   ]
  },
  {
   "cell_type": "code",
   "execution_count": 7,
   "metadata": {},
   "outputs": [
    {
     "name": "stdout",
     "output_type": "stream",
     "text": [
      "+-------+-------------------+\n",
      "|summary|          dividends|\n",
      "+-------+-------------------+\n",
      "|  count|               8719|\n",
      "|   mean|0.22300571957793303|\n",
      "| stddev| 0.6983857030438609|\n",
      "|    min|                0.0|\n",
      "|    max|             34.958|\n",
      "+-------+-------------------+\n",
      "\n"
     ]
    }
   ],
   "source": [
    "dividends.describe('dividends').show()"
   ]
  },
  {
   "cell_type": "markdown",
   "metadata": {},
   "source": [
    "### Basic transformations of DataFrame\n",
    "\n",
    "1. _select_\n",
    "2. _filter_\n",
    "3. _withColumn_\n",
    "4. _groupBy_\n",
    "5. _agg_\n",
    "6. _orderBy_\n",
    "7. _join_"
   ]
  },
  {
   "cell_type": "markdown",
   "metadata": {},
   "source": [
    "#### Select column(s) from a DataFrame"
   ]
  },
  {
   "cell_type": "code",
   "execution_count": 10,
   "metadata": {},
   "outputs": [
    {
     "name": "stdout",
     "output_type": "stream",
     "text": [
      "+------------+---------+\n",
      "|stock_symbol|dividends|\n",
      "+------------+---------+\n",
      "|         AIT|     0.15|\n",
      "|         AIT|     0.15|\n",
      "|         AIT|     0.15|\n",
      "|         AIT|     0.15|\n",
      "|         AIT|     0.15|\n",
      "|         AIT|     0.15|\n",
      "|         AIT|     0.15|\n",
      "|         AIT|     0.15|\n",
      "|         AIT|     0.15|\n",
      "|         AIT|     0.15|\n",
      "+------------+---------+\n",
      "only showing top 10 rows\n",
      "\n"
     ]
    }
   ],
   "source": [
    "dividends.select(['stock_symbol', 'dividends']).show(10)"
   ]
  },
  {
   "cell_type": "markdown",
   "metadata": {},
   "source": [
    "#### Filter the rows "
   ]
  },
  {
   "cell_type": "code",
   "execution_count": 11,
   "metadata": {
    "scrolled": true
   },
   "outputs": [
    {
     "name": "stdout",
     "output_type": "stream",
     "text": [
      "+--------+------------+-------------------+----------------+----------------+---------------+-----------------+------------+---------------------+\n",
      "|exchange|stock_symbol|               date|stock_price_open|stock_price_high|stock_price_low|stock_price_close|stock_volume|stock_price_adj_close|\n",
      "+--------+------------+-------------------+----------------+----------------+---------------+-----------------+------------+---------------------+\n",
      "|    NYSE|         ALX|2010-02-08 00:00:00|          280.05|           280.7|         272.74|           273.24|        4000|               273.24|\n",
      "|    NYSE|         ALX|2010-02-05 00:00:00|           272.7|          281.32|         272.01|           281.32|       11400|               281.32|\n",
      "|    NYSE|         ALX|2010-02-04 00:00:00|          278.06|          278.06|         271.55|           271.77|        5300|               271.77|\n",
      "|    NYSE|         ALX|2010-02-03 00:00:00|          287.73|          287.73|         278.55|           280.06|        6800|               280.06|\n",
      "|    NYSE|         ALX|2010-02-02 00:00:00|           294.0|          296.81|         286.97|           287.75|        7000|               287.75|\n",
      "|    NYSE|         ALX|2010-02-01 00:00:00|           293.0|           295.0|         292.59|           294.82|        3500|               294.82|\n",
      "|    NYSE|         ALX|2010-01-29 00:00:00|          291.34|           295.0|         290.54|           292.29|       10300|               292.29|\n",
      "|    NYSE|         ALX|2010-01-28 00:00:00|          290.97|          291.81|         286.35|           289.95|        6100|               289.95|\n",
      "|    NYSE|         ALX|2010-01-27 00:00:00|          283.58|          291.55|         281.35|           289.34|        3700|               289.34|\n",
      "|    NYSE|         ALX|2010-01-26 00:00:00|          284.99|          288.88|          284.0|           286.05|       10300|               286.05|\n",
      "|    NYSE|         ALX|2010-01-25 00:00:00|          286.99|           289.7|          279.8|            286.4|        6600|                286.4|\n",
      "|    NYSE|         ALX|2010-01-22 00:00:00|          293.56|          295.59|          282.0|            285.7|       10800|                285.7|\n",
      "|    NYSE|         ALX|2010-01-21 00:00:00|          300.06|          300.06|         292.17|           293.56|       13700|               293.56|\n",
      "|    NYSE|         ALX|2010-01-20 00:00:00|          302.82|          302.82|         297.81|            299.0|        5400|                299.0|\n",
      "|    NYSE|         ALX|2010-01-19 00:00:00|           300.5|          304.28|         298.98|           304.28|        6700|               304.28|\n",
      "|    NYSE|         ALX|2010-01-15 00:00:00|          305.38|          306.77|         299.89|           300.98|        6100|               300.98|\n",
      "|    NYSE|         ALX|2010-01-14 00:00:00|           305.0|          306.74|         302.76|           303.54|        2800|               303.54|\n",
      "|    NYSE|         ALX|2010-01-13 00:00:00|           302.7|          306.61|         297.06|           304.75|        6800|               304.75|\n",
      "|    NYSE|         ALX|2010-01-12 00:00:00|           291.7|          303.02|          289.0|           300.72|       21300|               300.72|\n",
      "|    NYSE|         ALX|2010-01-11 00:00:00|          307.35|          307.35|          291.7|           291.71|       11800|               291.71|\n",
      "+--------+------------+-------------------+----------------+----------------+---------------+-----------------+------------+---------------------+\n",
      "only showing top 20 rows\n",
      "\n"
     ]
    }
   ],
   "source": [
    "dailyPrices.filter(dailyPrices.stock_price_close> 200).show()\n",
    "# equivalentaly\n",
    "#dailyPrices.filter(dailyPrices['stock_price_close'] > 200).show()\n",
    "#dailyPrices.filter(\"stock_price_close > 200\").show()"
   ]
  },
  {
   "cell_type": "markdown",
   "metadata": {},
   "source": [
    "#### Select and Filter"
   ]
  },
  {
   "cell_type": "code",
   "execution_count": 12,
   "metadata": {},
   "outputs": [
    {
     "name": "stdout",
     "output_type": "stream",
     "text": [
      "+------------+-----------------+\n",
      "|stock_symbol|stock_price_close|\n",
      "+------------+-----------------+\n",
      "|         ALX|           273.24|\n",
      "|         ALX|           281.32|\n",
      "|         ALX|           271.77|\n",
      "|         ALX|           280.06|\n",
      "|         ALX|           287.75|\n",
      "|         ALX|           294.82|\n",
      "|         ALX|           292.29|\n",
      "|         ALX|           289.95|\n",
      "|         ALX|           289.34|\n",
      "|         ALX|           286.05|\n",
      "|         ALX|            286.4|\n",
      "|         ALX|            285.7|\n",
      "|         ALX|           293.56|\n",
      "|         ALX|            299.0|\n",
      "|         ALX|           304.28|\n",
      "|         ALX|           300.98|\n",
      "|         ALX|           303.54|\n",
      "|         ALX|           304.75|\n",
      "|         ALX|           300.72|\n",
      "|         ALX|           291.71|\n",
      "+------------+-----------------+\n",
      "only showing top 20 rows\n",
      "\n"
     ]
    }
   ],
   "source": [
    "dailyPrices.select('stock_symbol', 'stock_price_close').filter(dailyPrices.stock_price_close> 200).show()"
   ]
  },
  {
   "cell_type": "markdown",
   "metadata": {},
   "source": [
    "#### Mutate by withColumn"
   ]
  },
  {
   "cell_type": "code",
   "execution_count": 13,
   "metadata": {},
   "outputs": [
    {
     "name": "stdout",
     "output_type": "stream",
     "text": [
      "+--------+------------+-------------------+----------------+----------------+---------------+-----------------+------------+---------------------+--------------------+\n",
      "|exchange|stock_symbol|               date|stock_price_open|stock_price_high|stock_price_low|stock_price_close|stock_volume|stock_price_adj_close|          difference|\n",
      "+--------+------------+-------------------+----------------+----------------+---------------+-----------------+------------+---------------------+--------------------+\n",
      "|    NYSE|         AEA|2010-02-08 00:00:00|            4.42|            4.42|           4.21|             4.24|      205500|                 4.24|-0.17999999999999972|\n",
      "|    NYSE|         AEA|2010-02-05 00:00:00|            4.42|            4.54|           4.22|             4.41|      194300|                 4.41|-0.00999999999999...|\n",
      "|    NYSE|         AEA|2010-02-04 00:00:00|            4.55|            4.69|           4.39|             4.42|      233800|                 4.42| -0.1299999999999999|\n",
      "|    NYSE|         AEA|2010-02-03 00:00:00|            4.65|            4.69|            4.5|             4.55|      182100|                 4.55|-0.10000000000000053|\n",
      "|    NYSE|         AEA|2010-02-02 00:00:00|            4.74|             5.0|           4.62|             4.66|      222700|                 4.66|-0.08000000000000007|\n",
      "|    NYSE|         AEA|2010-02-01 00:00:00|            4.84|            4.92|           4.68|             4.75|      194800|                 4.75|-0.08999999999999986|\n",
      "|    NYSE|         AEA|2010-01-29 00:00:00|            4.97|            5.05|           4.76|             4.83|      222900|                 4.83|-0.13999999999999968|\n",
      "|    NYSE|         AEA|2010-01-28 00:00:00|            5.12|            5.22|           4.81|             4.98|      283100|                 4.98|-0.13999999999999968|\n",
      "|    NYSE|         AEA|2010-01-27 00:00:00|            4.82|            5.16|           4.79|             5.09|      243500|                 5.09|  0.2699999999999996|\n",
      "|    NYSE|         AEA|2010-01-26 00:00:00|            5.18|            5.18|           4.81|             4.84|      554800|                 4.84|-0.33999999999999986|\n",
      "|    NYSE|         AEA|2010-01-25 00:00:00|            5.42|            5.48|            5.2|             5.22|      257300|                 5.22|-0.20000000000000018|\n",
      "|    NYSE|         AEA|2010-01-22 00:00:00|            5.52|            5.59|           5.31|             5.37|      260800|                 5.37|-0.14999999999999947|\n",
      "|    NYSE|         AEA|2010-01-21 00:00:00|            5.67|            5.74|           5.37|             5.51|      264300|                 5.51|-0.16000000000000014|\n",
      "|    NYSE|         AEA|2010-01-20 00:00:00|            5.65|             5.7|           5.53|             5.66|      244600|                 5.66|0.009999999999999787|\n",
      "|    NYSE|         AEA|2010-01-19 00:00:00|            5.54|             5.7|           5.54|             5.69|      368000|                 5.69| 0.15000000000000036|\n",
      "|    NYSE|         AEA|2010-01-15 00:00:00|            5.48|            5.55|           5.33|             5.54|      435500|                 5.54| 0.05999999999999961|\n",
      "|    NYSE|         AEA|2010-01-14 00:00:00|            5.41|             5.5|           5.39|             5.41|      272200|                 5.41|                 0.0|\n",
      "|    NYSE|         AEA|2010-01-13 00:00:00|             5.5|             5.5|           5.41|             5.45|      176400|                 5.45|-0.04999999999999982|\n",
      "|    NYSE|         AEA|2010-01-12 00:00:00|            5.47|            5.51|           5.41|             5.46|      233100|                 5.46|-0.00999999999999...|\n",
      "|    NYSE|         AEA|2010-01-11 00:00:00|            5.64|            5.64|           5.49|             5.55|      178900|                 5.55|-0.08999999999999986|\n",
      "+--------+------------+-------------------+----------------+----------------+---------------+-----------------+------------+---------------------+--------------------+\n",
      "only showing top 20 rows\n",
      "\n"
     ]
    }
   ],
   "source": [
    "augmented = dailyPrices.withColumn('difference', dailyPrices.stock_price_close - dailyPrices.stock_price_open)\n",
    "augmented.show()"
   ]
  },
  {
   "cell_type": "markdown",
   "metadata": {},
   "source": [
    "#### GroupBy, Aggregate, and OrderBy"
   ]
  },
  {
   "cell_type": "code",
   "execution_count": 16,
   "metadata": {
    "scrolled": true
   },
   "outputs": [
    {
     "name": "stdout",
     "output_type": "stream",
     "text": [
      "+------------+----------------------+\n",
      "|stock_symbol|max(stock_price_close)|\n",
      "+------------+----------------------+\n",
      "|         ALX|                467.25|\n",
      "|         ADI|                182.62|\n",
      "|         ACL|                175.47|\n",
      "|         AXP|                 169.0|\n",
      "|         AZO|                166.82|\n",
      "|         AIG|                 156.5|\n",
      "|         AET|                153.93|\n",
      "|         AVB|                148.52|\n",
      "|         AEG|                147.58|\n",
      "|         APA|                 146.8|\n",
      "+------------+----------------------+\n",
      "only showing top 10 rows\n",
      "\n"
     ]
    }
   ],
   "source": [
    "dailyPrices.groupBy('stock_symbol').agg({'stock_price_close': 'max'}).orderBy('max(stock_price_close)', ascending=False).show(10)"
   ]
  },
  {
   "cell_type": "code",
   "execution_count": 19,
   "metadata": {},
   "outputs": [],
   "source": [
    "joined_df = dailyPrices.join(dividends, ['stock_symbol', 'date'], 'inner').select('stock_symbol','date', 'stock_price_close', 'dividends')"
   ]
  },
  {
   "cell_type": "code",
   "execution_count": null,
   "metadata": {},
   "outputs": [],
   "source": []
  },
  {
   "cell_type": "code",
   "execution_count": 20,
   "metadata": {},
   "outputs": [
    {
     "name": "stdout",
     "output_type": "stream",
     "text": [
      "+------------+-------------------+-----------------+---------+\n",
      "|stock_symbol|               date|stock_price_close|dividends|\n",
      "+------------+-------------------+-----------------+---------+\n",
      "|         AEA|2009-11-20 00:00:00|             6.24|    0.063|\n",
      "|         AEA|2009-08-21 00:00:00|              5.9|    0.063|\n",
      "|         AEA|2009-05-21 00:00:00|             4.35|    0.063|\n",
      "|         AEA|2009-02-20 00:00:00|             1.01|    0.063|\n",
      "|         AEA|2008-11-21 00:00:00|              1.5|    0.063|\n",
      "|         AEA|2008-08-22 00:00:00|             4.94|    0.125|\n",
      "|         AEA|2008-05-22 00:00:00|             6.99|    0.125|\n",
      "|         AEA|2008-02-22 00:00:00|             7.07|    0.125|\n",
      "|         AEA|2007-11-23 00:00:00|             8.37|    0.125|\n",
      "|         AEA|2007-08-24 00:00:00|            12.86|    0.125|\n",
      "+------------+-------------------+-----------------+---------+\n",
      "only showing top 10 rows\n",
      "\n"
     ]
    }
   ],
   "source": [
    "joined_df.show(10)"
   ]
  },
  {
   "cell_type": "code",
   "execution_count": null,
   "metadata": {},
   "outputs": [],
   "source": [
    "#df = df1.join(df2.withColumnRenamed('y1','x1').withColumnRenamed('y2','x2'), ['x1','x2'])"
   ]
  },
  {
   "cell_type": "markdown",
   "metadata": {},
   "source": [
    "### Running SQL Queries\n",
    "\n",
    "The *sql* function enables applications to run SQL queries and returns the result as a DataFrame.\n",
    "\n",
    "* Global Temporary View\n"
   ]
  },
  {
   "cell_type": "code",
   "execution_count": 21,
   "metadata": {},
   "outputs": [],
   "source": [
    "dailyPrices.createOrReplaceTempView('daily_prices')\n",
    "dividends.createOrReplaceTempView('dividends')"
   ]
  },
  {
   "cell_type": "code",
   "execution_count": 23,
   "metadata": {},
   "outputs": [
    {
     "name": "stdout",
     "output_type": "stream",
     "text": [
      "+--------+------------+-------------------+----------------+----------------+---------------+-----------------+------------+---------------------+\n",
      "|exchange|stock_symbol|               date|stock_price_open|stock_price_high|stock_price_low|stock_price_close|stock_volume|stock_price_adj_close|\n",
      "+--------+------------+-------------------+----------------+----------------+---------------+-----------------+------------+---------------------+\n",
      "|    NYSE|         AEA|2010-02-08 00:00:00|            4.42|            4.42|           4.21|             4.24|      205500|                 4.24|\n",
      "|    NYSE|         AEA|2010-02-05 00:00:00|            4.42|            4.54|           4.22|             4.41|      194300|                 4.41|\n",
      "|    NYSE|         AEA|2010-02-04 00:00:00|            4.55|            4.69|           4.39|             4.42|      233800|                 4.42|\n",
      "|    NYSE|         AEA|2010-02-03 00:00:00|            4.65|            4.69|            4.5|             4.55|      182100|                 4.55|\n",
      "|    NYSE|         AEA|2010-02-02 00:00:00|            4.74|             5.0|           4.62|             4.66|      222700|                 4.66|\n",
      "|    NYSE|         AEA|2010-02-01 00:00:00|            4.84|            4.92|           4.68|             4.75|      194800|                 4.75|\n",
      "|    NYSE|         AEA|2010-01-29 00:00:00|            4.97|            5.05|           4.76|             4.83|      222900|                 4.83|\n",
      "|    NYSE|         AEA|2010-01-28 00:00:00|            5.12|            5.22|           4.81|             4.98|      283100|                 4.98|\n",
      "|    NYSE|         AEA|2010-01-27 00:00:00|            4.82|            5.16|           4.79|             5.09|      243500|                 5.09|\n",
      "|    NYSE|         AEA|2010-01-26 00:00:00|            5.18|            5.18|           4.81|             4.84|      554800|                 4.84|\n",
      "+--------+------------+-------------------+----------------+----------------+---------------+-----------------+------------+---------------------+\n",
      "\n"
     ]
    }
   ],
   "source": [
    "price_result = spark.sql('SELECT * FROM daily_prices LIMIT 10')\n",
    "price_result.show(10)\n",
    "\n",
    "\n",
    "\n",
    "#result.filter(result['stock_price_close'] > 2).show()\n",
    "#result_1 = result.rdd.map(lambda row: (row,1)).toDF()\n",
    "#result_1.show()"
   ]
  },
  {
   "cell_type": "code",
   "execution_count": null,
   "metadata": {},
   "outputs": [],
   "source": [
    "dividend_result = spark.sql('SELECT * FROM dividends')\n",
    "dividend_result.show()\n"
   ]
  },
  {
   "cell_type": "markdown",
   "metadata": {},
   "source": [
    "#### Join on two views\n",
    "* List the closing prices when companies paid dividends"
   ]
  },
  {
   "cell_type": "code",
   "execution_count": null,
   "metadata": {},
   "outputs": [],
   "source": [
    "join = spark.sql('''SELECT div.exchange, div.stock_symbol, div.date, div.dividends,\n",
    "prices.stock_price_close  FROM dividends div INNER JOIN daily_prices prices\n",
    "ON(div.stock_symbol=prices.stock_symbol AND div.date=prices.date) LIMIT 10''')\n",
    "join.show()\n"
   ]
  },
  {
   "cell_type": "markdown",
   "metadata": {},
   "source": [
    "##### Join and GroupBy \n",
    "* What are the maximum, minimum, and average closing procies at the time of dividends"
   ]
  },
  {
   "cell_type": "code",
   "execution_count": null,
   "metadata": {},
   "outputs": [],
   "source": [
    "join_group = spark.sql('''SELECT div.stock_symbol, max(prices.stock_price_close) as max_close FROM dividends div \n",
    "INNER JOIN daily_prices prices ON(div.stock_symbol=prices.stock_symbol AND div.date=prices.date)\n",
    "GROUP BY div.stock_symbol LIMIT 10''')\n",
    "join_group.show()\n",
    "    "
   ]
  },
  {
   "cell_type": "code",
   "execution_count": null,
   "metadata": {
    "scrolled": true
   },
   "outputs": [],
   "source": [
    "join_group_agg = spark.sql('''SELECT div.stock_symbol, max(prices.stock_price_close) maximum,\n",
    "min(prices.stock_price_close) minimum, avg(prices.stock_price_close) average FROM dividends div \n",
    "INNER JOIN daily_prices prices ON(div.stock_symbol=prices.stock_symbol AND div.date=prices.date) \n",
    "GROUP BY div.stock_symbol LIMIT 10''')\n",
    "join_group_agg.show()"
   ]
  },
  {
   "cell_type": "code",
   "execution_count": null,
   "metadata": {},
   "outputs": [],
   "source": [
    "result = join_group_agg.collect()"
   ]
  },
  {
   "cell_type": "code",
   "execution_count": null,
   "metadata": {},
   "outputs": [],
   "source": [
    "for item in result:\n",
    "    print(item)"
   ]
  }
 ],
 "metadata": {
  "kernelspec": {
   "display_name": "Python 3",
   "language": "python",
   "name": "python3"
  },
  "language_info": {
   "codemirror_mode": {
    "name": "ipython",
    "version": 3
   },
   "file_extension": ".py",
   "mimetype": "text/x-python",
   "name": "python",
   "nbconvert_exporter": "python",
   "pygments_lexer": "ipython3",
   "version": "3.6.5"
  }
 },
 "nbformat": 4,
 "nbformat_minor": 2
}
