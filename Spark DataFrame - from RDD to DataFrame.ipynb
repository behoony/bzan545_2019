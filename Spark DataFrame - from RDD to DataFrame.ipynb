{
 "cells": [
  {
   "cell_type": "markdown",
   "metadata": {},
   "source": [
    "### There are cases when you have to parse data before loading into DataFrame\n",
    "* Data is not of csv format.\n",
    "* Further parsing of data elements is required\n",
    "* ...\n",
    "\n",
    "\n",
    "#### Typical workflow\n",
    "1. read data as an RDD of text lines.\n",
    "2. split each line into a list of elements.\n",
    "3. parse each element (if needed)\n",
    "4. convert each line into a **_sqlcontext Row_**, i.e. RDD of **_Rows_**\n",
    "5. convert the RDD into a DataFrame\n",
    "\n",
    "\n",
    "##### *Row* is a list of key/value pairs represented as\n",
    "$ [ col_1=value_1, col_2=value_2, ..., col_n = value_n ]$"
   ]
  },
  {
   "cell_type": "markdown",
   "metadata": {},
   "source": [
    "#### Example: Analyzing Web log data"
   ]
  },
  {
   "cell_type": "code",
   "execution_count": 1,
   "metadata": {},
   "outputs": [],
   "source": [
    "from pyspark.sql import SparkSession\n",
    "\n",
    "spark = SparkSession \\\n",
    "    .builder \\\n",
    "    .appName(\"DataFrame Intro\") \\\n",
    "    .config(\"spark.some.config.option\", \"some-value\") \\\n",
    "    .getOrCreate()\n",
    "\n",
    "sc = spark.sparkContext"
   ]
  },
  {
   "cell_type": "code",
   "execution_count": 2,
   "metadata": {},
   "outputs": [],
   "source": [
    "from pyspark.sql import Row\n",
    "log_file = sc.textFile(\"./data/log_file.txt\")"
   ]
  },
  {
   "cell_type": "code",
   "execution_count": 3,
   "metadata": {},
   "outputs": [],
   "source": [
    "import re"
   ]
  },
  {
   "cell_type": "code",
   "execution_count": 4,
   "metadata": {},
   "outputs": [
    {
     "data": {
      "text/plain": [
       "['141.243.1.172 29:23:53:25 GET /Software.html HTTP/1.0 200 1497']"
      ]
     },
     "execution_count": 4,
     "metadata": {},
     "output_type": "execute_result"
    }
   ],
   "source": [
    "log_file.map(lambda x: re.sub('[\"\\[\\]]','',x)).take(1)"
   ]
  },
  {
   "cell_type": "code",
   "execution_count": 5,
   "metadata": {},
   "outputs": [],
   "source": [
    "def create_schema(row):\n",
    "    token = row.split(' ')\n",
    "    ip = token[0]\n",
    "    date = token[1]\n",
    "    request = token[2]\n",
    "    url = token[3].split('?')[0]\n",
    "    status = token[4]\n",
    "    size = int(token[5]) if token[5].isnumeric() else 0 \n",
    "  \n",
    "    return Row(ip=ip, date=date, request=request, url=url, status=status, size=size)"
   ]
  },
  {
   "cell_type": "code",
   "execution_count": 6,
   "metadata": {},
   "outputs": [
    {
     "data": {
      "text/plain": [
       "[Row(date='29:23:53:25', ip='141.243.1.172', request='GET', size=200, status='HTTP/1.0', url='/Software.html'),\n",
       " Row(date='29:23:53:36', ip='query2.lycos.cs.cmu.edu', request='GET', size=200, status='HTTP/1.0', url='/Consumer.html'),\n",
       " Row(date='29:23:53:53', ip='tanuki.twics.com', request='GET', size=200, status='HTTP/1.0', url='/News.html'),\n",
       " Row(date='29:23:54:15', ip='wpbfl2-45.gate.net', request='GET', size=200, status='HTTP/1.0', url='/'),\n",
       " Row(date='29:23:54:16', ip='wpbfl2-45.gate.net', request='GET', size=200, status='HTTP/1.0', url='/icons/circle_logo_small.gif'),\n",
       " Row(date='29:23:54:18', ip='wpbfl2-45.gate.net', request='GET', size=200, status='HTTP/1.0', url='/logos/small_gopher.gif'),\n",
       " Row(date='29:23:54:19', ip='140.112.68.165', request='GET', size=200, status='HTTP/1.0', url='/logos/us-flag.gif'),\n",
       " Row(date='29:23:54:19', ip='wpbfl2-45.gate.net', request='GET', size=200, status='HTTP/1.0', url='/logos/small_ftp.gif'),\n",
       " Row(date='29:23:54:19', ip='wpbfl2-45.gate.net', request='GET', size=200, status='HTTP/1.0', url='/icons/book.gif'),\n",
       " Row(date='29:23:54:19', ip='wpbfl2-45.gate.net', request='GET', size=200, status='HTTP/1.0', url='/logos/us-flag.gif')]"
      ]
     },
     "execution_count": 6,
     "metadata": {},
     "output_type": "execute_result"
    }
   ],
   "source": [
    "row_data = log_file.map(lambda x: re.sub('[\"\\[\\]]','',x)).map(create_schema)\n",
    "row_data.take(10)"
   ]
  },
  {
   "cell_type": "code",
   "execution_count": 9,
   "metadata": {},
   "outputs": [
    {
     "name": "stdout",
     "output_type": "stream",
     "text": [
      "+-----------+--------------------+-------+----+--------+--------------------+\n",
      "|       date|                  ip|request|size|  status|                 url|\n",
      "+-----------+--------------------+-------+----+--------+--------------------+\n",
      "|29:23:53:25|       141.243.1.172|    GET| 200|HTTP/1.0|      /Software.html|\n",
      "|29:23:53:36|query2.lycos.cs.c...|    GET| 200|HTTP/1.0|      /Consumer.html|\n",
      "|29:23:53:53|    tanuki.twics.com|    GET| 200|HTTP/1.0|          /News.html|\n",
      "|29:23:54:15|  wpbfl2-45.gate.net|    GET| 200|HTTP/1.0|                   /|\n",
      "|29:23:54:16|  wpbfl2-45.gate.net|    GET| 200|HTTP/1.0|/icons/circle_log...|\n",
      "|29:23:54:18|  wpbfl2-45.gate.net|    GET| 200|HTTP/1.0|/logos/small_goph...|\n",
      "|29:23:54:19|      140.112.68.165|    GET| 200|HTTP/1.0|  /logos/us-flag.gif|\n",
      "|29:23:54:19|  wpbfl2-45.gate.net|    GET| 200|HTTP/1.0|/logos/small_ftp.gif|\n",
      "|29:23:54:19|  wpbfl2-45.gate.net|    GET| 200|HTTP/1.0|     /icons/book.gif|\n",
      "|29:23:54:19|  wpbfl2-45.gate.net|    GET| 200|HTTP/1.0|  /logos/us-flag.gif|\n",
      "+-----------+--------------------+-------+----+--------+--------------------+\n",
      "\n"
     ]
    }
   ],
   "source": [
    "schema_DF = spark.createDataFrame(row_data)\n",
    "schema_DF.createOrReplaceTempView('logs')\n",
    "sample = spark.sql('SELECT * FROM logs LIMIT 10').show(10)  # returns list\n"
   ]
  },
  {
   "cell_type": "code",
   "execution_count": 8,
   "metadata": {},
   "outputs": [
    {
     "data": {
      "text/plain": [
       "[Row(date='29:23:53:25', ip='141.243.1.172', request='GET', size=200, status='HTTP/1.0', url='/Software.html'),\n",
       " Row(date='29:23:53:36', ip='query2.lycos.cs.cmu.edu', request='GET', size=200, status='HTTP/1.0', url='/Consumer.html'),\n",
       " Row(date='29:23:53:53', ip='tanuki.twics.com', request='GET', size=200, status='HTTP/1.0', url='/News.html'),\n",
       " Row(date='29:23:54:15', ip='wpbfl2-45.gate.net', request='GET', size=200, status='HTTP/1.0', url='/'),\n",
       " Row(date='29:23:54:16', ip='wpbfl2-45.gate.net', request='GET', size=200, status='HTTP/1.0', url='/icons/circle_logo_small.gif'),\n",
       " Row(date='29:23:54:18', ip='wpbfl2-45.gate.net', request='GET', size=200, status='HTTP/1.0', url='/logos/small_gopher.gif'),\n",
       " Row(date='29:23:54:19', ip='140.112.68.165', request='GET', size=200, status='HTTP/1.0', url='/logos/us-flag.gif'),\n",
       " Row(date='29:23:54:19', ip='wpbfl2-45.gate.net', request='GET', size=200, status='HTTP/1.0', url='/logos/small_ftp.gif'),\n",
       " Row(date='29:23:54:19', ip='wpbfl2-45.gate.net', request='GET', size=200, status='HTTP/1.0', url='/icons/book.gif'),\n",
       " Row(date='29:23:54:19', ip='wpbfl2-45.gate.net', request='GET', size=200, status='HTTP/1.0', url='/logos/us-flag.gif')]"
      ]
     },
     "execution_count": 8,
     "metadata": {},
     "output_type": "execute_result"
    }
   ],
   "source": [
    "schema_DF.take(10)"
   ]
  },
  {
   "cell_type": "code",
   "execution_count": null,
   "metadata": {},
   "outputs": [],
   "source": [
    "schema_DF.printSchema()"
   ]
  },
  {
   "cell_type": "code",
   "execution_count": null,
   "metadata": {},
   "outputs": [],
   "source": [
    "schema_DF.show()"
   ]
  },
  {
   "cell_type": "markdown",
   "metadata": {},
   "source": [
    "### Most visited URLs?"
   ]
  },
  {
   "cell_type": "code",
   "execution_count": null,
   "metadata": {},
   "outputs": [],
   "source": [
    "schema_DF.groupBy('url').count().orderBy('count', ascending=False).show()\n"
   ]
  },
  {
   "cell_type": "code",
   "execution_count": null,
   "metadata": {},
   "outputs": [],
   "source": [
    "url_access = spark.sql('''SELECT url, count(*) as counts FROM logs GROUP BY url\n",
    "  ORDER BY counts DESC LIMIT 10''')#.collect()\n",
    "\n",
    "url_access.show()\n",
    "#for row in url_access:\n",
    "#    print row\n",
    "    \n"
   ]
  },
  {
   "cell_type": "markdown",
   "metadata": {},
   "source": [
    "### Most frequent visitors?"
   ]
  },
  {
   "cell_type": "code",
   "execution_count": null,
   "metadata": {},
   "outputs": [],
   "source": [
    "schema_DF.groupBy('ip').count().orderBy('count', ascending=False).show()"
   ]
  },
  {
   "cell_type": "code",
   "execution_count": null,
   "metadata": {},
   "outputs": [],
   "source": [
    "visitors = spark.sql('''SELECT ip, count(*) as counts FROM logs GROUP BY ip\n",
    "  ORDER BY counts DESC LIMIT 10''').collect()\n",
    "for row in visitors:\n",
    "    print(row)"
   ]
  },
  {
   "cell_type": "code",
   "execution_count": null,
   "metadata": {},
   "outputs": [],
   "source": []
  },
  {
   "cell_type": "code",
   "execution_count": null,
   "metadata": {
    "scrolled": true
   },
   "outputs": [],
   "source": [
    "td = schema_DF.select(\"ip\",\"size\").filter(schema_DF.size > 3000).groupBy('ip').count().orderBy('count', ascending=False)#.show()\n",
    "td.show()"
   ]
  },
  {
   "cell_type": "markdown",
   "metadata": {},
   "source": [
    "#### Can we change order of operations?"
   ]
  },
  {
   "cell_type": "code",
   "execution_count": null,
   "metadata": {},
   "outputs": [],
   "source": [
    "td = schema_DF.filter(schema_DF.time > 3000).select('ip','time').groupBy('ip').count().orderBy('count', ascending=False)\n",
    "td.show()"
   ]
  },
  {
   "cell_type": "markdown",
   "metadata": {},
   "source": [
    "#### How to count visitors by _.com_, _.net_, etc?"
   ]
  },
  {
   "cell_type": "code",
   "execution_count": null,
   "metadata": {},
   "outputs": [],
   "source": [
    "tdrdd = td.rdd\n",
    "tdrdd.take(10)"
   ]
  }
 ],
 "metadata": {
  "kernelspec": {
   "display_name": "Python 3",
   "language": "python",
   "name": "python3"
  },
  "language_info": {
   "codemirror_mode": {
    "name": "ipython",
    "version": 3
   },
   "file_extension": ".py",
   "mimetype": "text/x-python",
   "name": "python",
   "nbconvert_exporter": "python",
   "pygments_lexer": "ipython3",
   "version": "3.6.5"
  }
 },
 "nbformat": 4,
 "nbformat_minor": 2
}
